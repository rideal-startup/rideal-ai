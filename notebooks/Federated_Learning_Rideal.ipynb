{
  "nbformat": 4,
  "nbformat_minor": 0,
  "metadata": {
    "colab": {
      "name": "Federated Learning - Rideal.ipynb",
      "provenance": [],
      "collapsed_sections": [],
      "include_colab_link": true
    },
    "kernelspec": {
      "name": "python3",
      "display_name": "Python 3"
    },
    "accelerator": "GPU"
  },
  "cells": [
    {
      "cell_type": "markdown",
      "metadata": {
        "id": "view-in-github",
        "colab_type": "text"
      },
      "source": [
        "<a href=\"https://colab.research.google.com/github/rideal-startup/rideal-ai/blob/master/notebooks/Federated_Learning_Rideal.ipynb\" target=\"_parent\"><img src=\"https://colab.research.google.com/assets/colab-badge.svg\" alt=\"Open In Colab\"/></a>"
      ]
    },
    {
      "cell_type": "markdown",
      "metadata": {
        "id": "EioDk3koS_or",
        "colab_type": "text"
      },
      "source": [
        "# Federated learning - Rideal\n",
        "\n",
        "PySyft is a Python library for secure and private Deep Learning. PySyft decouples private data from model training, using Federated Learning, Differential Privacy, and Multi-Party Computation (MPC) within the main Deep Learning frameworks like PyTorch.\n",
        "\n",
        "We download and install the library."
      ]
    },
    {
      "cell_type": "code",
      "metadata": {
        "id": "U-MHSgO6Ff-e",
        "colab_type": "code",
        "outputId": "0439ef3e-6ab3-4f81-9b6a-4833699aa82a",
        "colab": {
          "base_uri": "https://localhost:8080/",
          "height": 419
        }
      },
      "source": [
        "!pip install syft"
      ],
      "execution_count": 0,
      "outputs": [
        {
          "output_type": "stream",
          "text": [
            "Requirement already satisfied: syft in /usr/local/lib/python3.6/dist-packages (0.2.0a2)\n",
            "Requirement already satisfied: zstd>=1.4.0.0 in /usr/local/lib/python3.6/dist-packages (from syft) (1.4.4.0)\n",
            "Requirement already satisfied: lz4>=2.1.6 in /usr/local/lib/python3.6/dist-packages (from syft) (2.2.1)\n",
            "Requirement already satisfied: websockets>=7.0 in /usr/local/lib/python3.6/dist-packages (from syft) (8.1)\n",
            "Requirement already satisfied: torchvision==0.4.1 in /usr/local/lib/python3.6/dist-packages (from syft) (0.4.1)\n",
            "Requirement already satisfied: msgpack>=0.6.1 in /usr/local/lib/python3.6/dist-packages (from syft) (0.6.2)\n",
            "Requirement already satisfied: numpy>=1.16.0 in /usr/local/lib/python3.6/dist-packages (from syft) (1.17.4)\n",
            "Requirement already satisfied: tblib>=1.4.0 in /usr/local/lib/python3.6/dist-packages (from syft) (1.6.0)\n",
            "Requirement already satisfied: websocket-client>=0.56.0 in /usr/local/lib/python3.6/dist-packages (from syft) (0.56.0)\n",
            "Requirement already satisfied: torch==1.3 in /usr/local/lib/python3.6/dist-packages (from syft) (1.3.0)\n",
            "Requirement already satisfied: Flask>=1.0.2 in /usr/local/lib/python3.6/dist-packages (from syft) (1.1.1)\n",
            "Requirement already satisfied: flask-socketio>=3.3.2 in /usr/local/lib/python3.6/dist-packages (from syft) (4.2.1)\n",
            "Requirement already satisfied: pillow>=4.1.1 in /usr/local/lib/python3.6/dist-packages (from torchvision==0.4.1->syft) (4.3.0)\n",
            "Requirement already satisfied: six in /usr/local/lib/python3.6/dist-packages (from torchvision==0.4.1->syft) (1.12.0)\n",
            "Requirement already satisfied: click>=5.1 in /usr/local/lib/python3.6/dist-packages (from Flask>=1.0.2->syft) (7.0)\n",
            "Requirement already satisfied: Werkzeug>=0.15 in /usr/local/lib/python3.6/dist-packages (from Flask>=1.0.2->syft) (0.16.0)\n",
            "Requirement already satisfied: Jinja2>=2.10.1 in /usr/local/lib/python3.6/dist-packages (from Flask>=1.0.2->syft) (2.10.3)\n",
            "Requirement already satisfied: itsdangerous>=0.24 in /usr/local/lib/python3.6/dist-packages (from Flask>=1.0.2->syft) (1.1.0)\n",
            "Requirement already satisfied: python-socketio>=4.3.0 in /usr/local/lib/python3.6/dist-packages (from flask-socketio>=3.3.2->syft) (4.4.0)\n",
            "Requirement already satisfied: olefile in /usr/local/lib/python3.6/dist-packages (from pillow>=4.1.1->torchvision==0.4.1->syft) (0.46)\n",
            "Requirement already satisfied: MarkupSafe>=0.23 in /usr/local/lib/python3.6/dist-packages (from Jinja2>=2.10.1->Flask>=1.0.2->syft) (1.1.1)\n",
            "Requirement already satisfied: python-engineio>=3.9.0 in /usr/local/lib/python3.6/dist-packages (from python-socketio>=4.3.0->flask-socketio>=3.3.2->syft) (3.11.1)\n"
          ],
          "name": "stdout"
        }
      ]
    },
    {
      "cell_type": "markdown",
      "metadata": {
        "id": "OH7DXUa1TPNA",
        "colab_type": "text"
      },
      "source": [
        "Import the modules that we are going to use throughout the training."
      ]
    },
    {
      "cell_type": "code",
      "metadata": {
        "id": "OkJEfsOrEoZ-",
        "colab_type": "code",
        "colab": {}
      },
      "source": [
        "from typing import Tuple\n",
        "from collections import Counter\n",
        "\n",
        "import torch\n",
        "import torch.nn as nn\n",
        "import torch.nn.functional as F\n",
        "\n",
        "import numpy as np\n",
        "import pandas as pd\n",
        "\n",
        "import sklearn.metrics as metrics\n",
        "from sklearn.model_selection import train_test_split"
      ],
      "execution_count": 0,
      "outputs": []
    },
    {
      "cell_type": "code",
      "metadata": {
        "id": "lcOYt5uNGN96",
        "colab_type": "code",
        "outputId": "06294306-987a-4de6-bdc8-ac9ef66dc962",
        "colab": {
          "base_uri": "https://localhost:8080/",
          "height": 34
        }
      },
      "source": [
        "from google.colab import drive\n",
        "drive.mount('/gdrive')"
      ],
      "execution_count": 0,
      "outputs": [
        {
          "output_type": "stream",
          "text": [
            "Drive already mounted at /gdrive; to attempt to forcibly remount, call drive.mount(\"/gdrive\", force_remount=True).\n"
          ],
          "name": "stdout"
        }
      ]
    },
    {
      "cell_type": "markdown",
      "metadata": {
        "id": "g3Q4O4VCFkaf",
        "colab_type": "text"
      },
      "source": [
        "## Data Ingestion\n",
        "\n",
        "Get the preprocessed dataset.\n",
        "\n",
        "The dataset contains the following mobile sensors:\n",
        "- Accelerometer\n",
        "- Gyroscope\n",
        "- Sound\n"
      ]
    },
    {
      "cell_type": "code",
      "metadata": {
        "id": "1ye1rWwrQnkJ",
        "colab_type": "code",
        "colab": {}
      },
      "source": [
        "df = pd.read_csv('/gdrive/My Drive/dataset-w5.csv')\n",
        "x = df.drop(['target', 'time'], axis='columns').values.astype('float32')\n",
        "y = df['target'].values "
      ],
      "execution_count": 0,
      "outputs": []
    },
    {
      "cell_type": "code",
      "metadata": {
        "id": "h8PuptndRcbT",
        "colab_type": "code",
        "outputId": "39c55927-208f-460b-e299-60ea0ec1ef30",
        "colab": {
          "base_uri": "https://localhost:8080/",
          "height": 34
        }
      },
      "source": [
        "x.shape, y.shape"
      ],
      "execution_count": 0,
      "outputs": [
        {
          "output_type": "execute_result",
          "data": {
            "text/plain": [
              "((5893, 12), (5893,))"
            ]
          },
          "metadata": {
            "tags": []
          },
          "execution_count": 5
        }
      ]
    },
    {
      "cell_type": "markdown",
      "metadata": {
        "id": "d4QddKLCUSxh",
        "colab_type": "text"
      },
      "source": [
        "We create a mapping to convert the data labels to numeric indices. This is what we call a Label Encoder"
      ]
    },
    {
      "cell_type": "code",
      "metadata": {
        "id": "14niJm7APXvg",
        "colab_type": "code",
        "colab": {}
      },
      "source": [
        "IDX_2_LABEL = ['Still', 'Car', 'Train', 'Bus', 'Walking']\n",
        "LABEL_2_IDX = {l: i for i, l in enumerate(IDX_2_LABEL)}"
      ],
      "execution_count": 0,
      "outputs": []
    },
    {
      "cell_type": "code",
      "metadata": {
        "id": "gkDFSOR0TZKh",
        "colab_type": "code",
        "colab": {}
      },
      "source": [
        "# Convert categorical labels to numbers\n",
        "y = np.array([LABEL_2_IDX[l] for l in y])"
      ],
      "execution_count": 0,
      "outputs": []
    },
    {
      "cell_type": "code",
      "metadata": {
        "id": "KcUl8oNYRg7F",
        "colab_type": "code",
        "colab": {}
      },
      "source": [
        "x_train, x_test, y_train, y_test = train_test_split(x, y, train_size=.85)\n",
        "\n",
        "train_mean = x_train.mean(axis=0)\n",
        "train_std = x_train.std(axis=0)\n",
        "\n",
        "x_train = (x_train - train_mean) / train_std\n",
        "x_test = (x_test - train_mean) / train_std"
      ],
      "execution_count": 0,
      "outputs": []
    },
    {
      "cell_type": "markdown",
      "metadata": {
        "id": "UYEq9y0sUivo",
        "colab_type": "text"
      },
      "source": [
        "Set PySyft hook to PyTorch"
      ]
    },
    {
      "cell_type": "code",
      "metadata": {
        "id": "wYEPfjVJlapx",
        "colab_type": "code",
        "outputId": "96b5c742-e0ef-421f-a117-648c804e4ddb",
        "colab": {
          "base_uri": "https://localhost:8080/",
          "height": 64
        }
      },
      "source": [
        "import syft as sy\n",
        "hook = sy.TorchHook(torch)"
      ],
      "execution_count": 0,
      "outputs": [
        {
          "output_type": "display_data",
          "data": {
            "text/html": [
              "<p style=\"color: red;\">\n",
              "The default version of TensorFlow in Colab will soon switch to TensorFlow 2.x.<br>\n",
              "We recommend you <a href=\"https://www.tensorflow.org/guide/migrate\" target=\"_blank\">upgrade</a> now \n",
              "or ensure your notebook will continue to use TensorFlow 1.x via the <code>%tensorflow_version 1.x</code> magic:\n",
              "<a href=\"https://colab.research.google.com/notebooks/tensorflow_version.ipynb\" target=\"_blank\">more info</a>.</p>\n"
            ],
            "text/plain": [
              "<IPython.core.display.HTML object>"
            ]
          },
          "metadata": {
            "tags": []
          }
        }
      ]
    },
    {
      "cell_type": "markdown",
      "metadata": {
        "id": "Jh2sB-QNUpQ-",
        "colab_type": "text"
      },
      "source": [
        "## Simulate 4 different workers"
      ]
    },
    {
      "cell_type": "code",
      "metadata": {
        "id": "eTCQuSWelkfq",
        "colab_type": "code",
        "colab": {}
      },
      "source": [
        "guillem = sy.VirtualWorker(hook, id=\"guillem\")\n",
        "jordi = sy.VirtualWorker(hook, id=\"jordi\")\n",
        "atto = sy.VirtualWorker(hook, id=\"atto\")\n",
        "marcel = sy.VirtualWorker(hook, id=\"marcel\")"
      ],
      "execution_count": 0,
      "outputs": []
    },
    {
      "cell_type": "markdown",
      "metadata": {
        "id": "67bshhi2U2Mi",
        "colab_type": "text"
      },
      "source": [
        "Distribute the data over the workers\n"
      ]
    },
    {
      "cell_type": "code",
      "metadata": {
        "id": "4s4sYMqylx5c",
        "colab_type": "code",
        "colab": {}
      },
      "source": [
        "x_train = torch.tensor(x_train)\n",
        "y_train = torch.tensor(y_train)\n",
        "\n",
        "rand_idx = torch.randperm(x_train.shape[0]).long()\n",
        "splits = torch.split(rand_idx, x.shape[0] // 4, dim=0)[:4]\n",
        "\n",
        "guillem_data, guillem_target = x_train[splits[0]], y_train[splits[0]]\n",
        "jordi_data, jordi_target = x_train[splits[1]], y_train[splits[1]]\n",
        "atto_data, atto_target = x_train[splits[2]], y_train[splits[2]]\n",
        "marcel_data, marcel_target = x_train[splits[3]], y_train[splits[3]]"
      ],
      "execution_count": 0,
      "outputs": []
    },
    {
      "cell_type": "code",
      "metadata": {
        "id": "vog-dW9erO_w",
        "colab_type": "code",
        "colab": {}
      },
      "source": [
        "guillem_data = guillem_data.send(guillem)\n",
        "guillem_target = guillem_target.send(guillem)\n",
        "\n",
        "jordi_data = jordi_data.send(jordi)\n",
        "jordi_target = jordi_target.send(jordi)\n",
        "\n",
        "atto_data = atto_data.send(atto)\n",
        "atto_target = atto_target.send(atto)\n",
        "\n",
        "marcel_data = marcel_data.send(marcel)\n",
        "marcel_target = marcel_target.send(marcel)"
      ],
      "execution_count": 0,
      "outputs": []
    },
    {
      "cell_type": "markdown",
      "metadata": {
        "id": "VGYXRildVAxN",
        "colab_type": "text"
      },
      "source": [
        "Now the Tensors are PointerTensor because they are living in an another machine."
      ]
    },
    {
      "cell_type": "code",
      "metadata": {
        "id": "gQJxQIS9ruch",
        "colab_type": "code",
        "outputId": "1e6756fa-502d-49d1-a4ae-c2681b6c2a4d",
        "colab": {
          "base_uri": "https://localhost:8080/",
          "height": 34
        }
      },
      "source": [
        "guillem_data"
      ],
      "execution_count": 0,
      "outputs": [
        {
          "output_type": "execute_result",
          "data": {
            "text/plain": [
              "(Wrapper)>[PointerTensor | me:16966620659 -> guillem:6820356034]"
            ]
          },
          "metadata": {
            "tags": []
          },
          "execution_count": 13
        }
      ]
    },
    {
      "cell_type": "code",
      "metadata": {
        "id": "2fV9y0AdqgJw",
        "colab_type": "code",
        "colab": {}
      },
      "source": [
        "# Organize the distributed datasets\n",
        "datasets = [(guillem_data, guillem_target),\n",
        "            (jordi_data, jordi_target),\n",
        "            (atto_data, atto_target),\n",
        "            (marcel_data, marcel_target)]"
      ],
      "execution_count": 0,
      "outputs": []
    },
    {
      "cell_type": "markdown",
      "metadata": {
        "id": "3dSMRp5rVUQp",
        "colab_type": "text"
      },
      "source": [
        "## Defining the model\n",
        "\n",
        "We are going to implement a Voting Ensamble of Dense classifiers."
      ]
    },
    {
      "cell_type": "code",
      "metadata": {
        "id": "31s1jo11KKZc",
        "colab_type": "code",
        "colab": {}
      },
      "source": [
        "device = torch.device('cuda' if torch.cuda.is_available() else 'cpu')\n",
        "if torch.cuda.is_available():\n",
        "  torch.set_default_tensor_type(torch.cuda.FloatTensor)"
      ],
      "execution_count": 0,
      "outputs": []
    },
    {
      "cell_type": "code",
      "metadata": {
        "id": "rUe105y8HUr8",
        "colab_type": "code",
        "colab": {}
      },
      "source": [
        "class Classifier(nn.Module):\n",
        "\n",
        "  def __init__(self, n_features, n_labels):\n",
        "    super(Classifier, self).__init__()\n",
        "    self.linear1 = nn.Linear(n_features, 1024)\n",
        "\n",
        "    self.linear2 = nn.Linear(1024, 512)\n",
        "\n",
        "    self.linear3 = nn.Linear(512, 256)\n",
        "    self.dropout3 = nn.Dropout(.5)\n",
        "\n",
        "    self.linear4 = nn.Linear(256, 128)\n",
        "    self.dropout4 = nn.Dropout(.5)\n",
        "\n",
        "    self.clf = nn.Linear(128, n_labels)\n",
        "\n",
        "  def forward(self, x):\n",
        "    x = F.relu(self.linear1(x))\n",
        "    \n",
        "    x = F.relu(self.linear2(x))\n",
        "\n",
        "    x = F.relu(self.linear3(x))\n",
        "    x = self.dropout3(x)\n",
        "    \n",
        "    x = F.relu(self.linear4(x))\n",
        "    x = self.dropout4(x)\n",
        "\n",
        "    x = self.clf(x)\n",
        "\n",
        "    return x"
      ],
      "execution_count": 0,
      "outputs": []
    },
    {
      "cell_type": "code",
      "metadata": {
        "id": "G52AwqLnVhAP",
        "colab_type": "code",
        "colab": {}
      },
      "source": [
        "lr = 1e-2\n",
        "\n",
        "def create_optimizers(m):\n",
        "  \"\"\"Create an optimizer for every worker\"\"\"\n",
        "  return {\n",
        "      guillem.id: torch.optim.SGD(params=m.parameters(), lr=lr),\n",
        "      jordi.id: torch.optim.SGD(params=m.parameters(), lr=lr),\n",
        "      marcel.id: torch.optim.SGD(params=m.parameters(), lr=lr),\n",
        "      atto.id: torch.optim.SGD(params=m.parameters(), lr=lr),\n",
        "  }\n",
        "\n",
        "models = [Classifier(12, len(IDX_2_LABEL)) for _ in range(N_MODELS)]\n",
        "for m in models:\n",
        "  m.to(device)\n",
        "optimizers = [create_optimizers(m) for m in models]"
      ],
      "execution_count": 0,
      "outputs": []
    },
    {
      "cell_type": "markdown",
      "metadata": {
        "id": "V4fyWvkgWNbF",
        "colab_type": "text"
      },
      "source": [
        "## Training"
      ]
    },
    {
      "cell_type": "code",
      "metadata": {
        "id": "tGY67uYNabB3",
        "colab_type": "code",
        "cellView": "form",
        "colab": {}
      },
      "source": [
        "#@title Training hyperparameters\n",
        "\n",
        "NUM_EPOCHS =  15#@param {type: \"number\"}\n",
        "STEPS_PER_EPOCH = 256 #@param {type: \"number\"}\n",
        "BATCH_SIZE = 32 #@param {type: \"number\"}\n",
        "N_MODELS = 3 #@param {type: \"number\"}"
      ],
      "execution_count": 0,
      "outputs": []
    },
    {
      "cell_type": "code",
      "metadata": {
        "id": "jsIcSNXvHzeO",
        "colab_type": "code",
        "outputId": "2d8e3712-418b-44ab-ec89-c34c3b3fb12c",
        "colab": {
          "base_uri": "https://localhost:8080/",
          "height": 590
        }
      },
      "source": [
        "def train_single_epoch(model: nn.Module, \n",
        "                       optimizer: dict,\n",
        "                       epoch: int):\n",
        "  losses = []\n",
        "  model.train()\n",
        "\n",
        "  for iter in range(STEPS_PER_EPOCH):\n",
        "    for data, target in datasets:\n",
        "          \n",
        "      model.send(data.location)\n",
        "\n",
        "      optimizer[data.location.id].zero_grad()\n",
        "\n",
        "      predictions = model(data.to(device))\n",
        "\n",
        "      loss = F.cross_entropy(predictions, target.view(-1).to(device))\n",
        "      loss.backward()\n",
        "\n",
        "      optimizer[data.location.id].step()\n",
        "      \n",
        "      model.get()\n",
        "      losses.append(loss.get().item())\n",
        "  \n",
        "  loss_mean = sum(losses) / len(losses)\n",
        "  print(f'Epoch[{epoch}] training loss: {loss_mean}')\n",
        "\n",
        "\n",
        "def train_model(model: nn.Module, \n",
        "                optimizer: torch.optim.Optimizer):\n",
        "  \n",
        "  for epoch in range(NUM_EPOCHS):\n",
        "    train_single_epoch(model, optimizer, epoch)\n",
        "\n",
        "\n",
        "for i in range(N_MODELS):\n",
        "  print('----- Training model {} -----'.format(i))\n",
        "  train_model(models[i], optimizers[i])\n",
        "  torch.save(models[i].state_dict(), '/gdrive/My Drive/model_{}.pt'.format(i))"
      ],
      "execution_count": 0,
      "outputs": [
        {
          "output_type": "stream",
          "text": [
            "----- Training model 0 -----\n",
            "Epoch[0] training loss: 1.3471073576947674\n",
            "Epoch[1] training loss: 1.0932938750484027\n",
            "Epoch[2] training loss: 0.9873493363847956\n",
            "Epoch[3] training loss: 0.910288873128593\n",
            "Epoch[4] training loss: 0.8422362464480102\n",
            "Epoch[5] training loss: 0.7896337371785194\n",
            "Epoch[6] training loss: 0.7490539705031551\n",
            "Epoch[7] training loss: 0.7130193212069571\n",
            "Epoch[8] training loss: 0.6804021842544898\n",
            "Epoch[9] training loss: 0.6503270207322203\n",
            "----- Training model 1 -----\n",
            "Epoch[0] training loss: 1.3397509147180244\n",
            "Epoch[1] training loss: 1.0783673717523925\n",
            "Epoch[2] training loss: 0.9754909795592539\n",
            "Epoch[3] training loss: 0.8968368303612806\n",
            "Epoch[4] training loss: 0.8309920413303189\n",
            "Epoch[5] training loss: 0.7822642175597139\n",
            "Epoch[6] training loss: 0.7424696591915563\n",
            "Epoch[7] training loss: 0.7075948596466333\n",
            "Epoch[8] training loss: 0.6762245220597833\n",
            "Epoch[9] training loss: 0.6478326536598615\n",
            "----- Training model 2 -----\n",
            "Epoch[0] training loss: 1.3496386968763545\n",
            "Epoch[1] training loss: 1.0921721952036023\n",
            "Epoch[2] training loss: 0.9840577786089852\n",
            "Epoch[3] training loss: 0.9014379432192072\n",
            "Epoch[4] training loss: 0.8352685666759498\n",
            "Epoch[5] training loss: 0.785098162421491\n",
            "Epoch[6] training loss: 0.7450665122596547\n",
            "Epoch[7] training loss: 0.7094623213051818\n",
            "Epoch[8] training loss: 0.6767550947261043\n",
            "Epoch[9] training loss: 0.6476207725936547\n"
          ],
          "name": "stdout"
        }
      ]
    },
    {
      "cell_type": "code",
      "metadata": {
        "id": "GxTryi-aJJn0",
        "colab_type": "code",
        "colab": {}
      },
      "source": [
        "def save(models):\n",
        "  torch.save([m.state_dict() for m in models],\n",
        "            '/gdrive/My Drive/tmd_detection_ensamble.py')"
      ],
      "execution_count": 0,
      "outputs": []
    },
    {
      "cell_type": "code",
      "metadata": {
        "id": "EGWc2gjJXvzY",
        "colab_type": "code",
        "colab": {}
      },
      "source": [
        "@torch.no_grad()\n",
        "def predict(x, models):\n",
        "  predictions = torch.stack([m(x.to(device)).argmax(-1) \n",
        "                             for m in models])\n",
        "  predictions = predictions.permute(1, 0)\n",
        "  voting_preds = []\n",
        "  for preds in predictions:\n",
        "    counts = Counter(preds.tolist())\n",
        "    most_common = counts.most_common()\n",
        "    if len(most_common) == 1:\n",
        "      voting_preds.append(most_common[0][0])\n",
        "    else:\n",
        "      values = torch.FloatTensor([o[1] for o in most_common])\n",
        "      classes = [o[0] for o in most_common]\n",
        "      probs = torch.softmax(values, dim=0).numpy()\n",
        "      voting_preds.append(np.random.choice(classes, p=probs, size=(1,))[0])\n",
        "  \n",
        "  return torch.LongTensor(voting_preds)\n",
        "\n",
        "\n",
        "def report_results():\n",
        "  x = torch.from_numpy(x_test)\n",
        "  y = torch.from_numpy(y_test)\n",
        "\n",
        "  preds = predict(x, models)\n",
        "  \n",
        "  y_trues = y.view(-1).cpu().numpy()\n",
        "  y_preds = preds.cpu().numpy()\n",
        "\n",
        "  print(metrics.classification_report(y_trues, y_preds))"
      ],
      "execution_count": 0,
      "outputs": []
    },
    {
      "cell_type": "code",
      "metadata": {
        "id": "Ecpy2hciOGZy",
        "colab_type": "code",
        "outputId": "6a08c19a-16db-4e41-e68d-71fd8cd09d25",
        "colab": {
          "base_uri": "https://localhost:8080/"
        }
      },
      "source": [
        "report_results()"
      ],
      "execution_count": 0,
      "outputs": [
        {
          "output_type": "stream",
          "text": [
            "              precision    recall  f1-score   support\n",
            "\n",
            "           0       0.78      0.86      0.82       176\n",
            "           1       0.57      0.60      0.59       173\n",
            "           2       0.69      0.65      0.67       168\n",
            "           3       0.72      0.69      0.70       179\n",
            "           4       0.93      0.88      0.90       188\n",
            "\n",
            "    accuracy                           0.74       884\n",
            "   macro avg       0.74      0.74      0.74       884\n",
            "weighted avg       0.74      0.74      0.74       884\n",
            "\n"
          ],
          "name": "stdout"
        }
      ]
    }
  ]
}